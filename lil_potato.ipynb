{
 "cells": [
  {
   "cell_type": "markdown",
   "metadata": {},
   "source": [
    "imports"
   ]
  },
  {
   "cell_type": "code",
   "execution_count": null,
   "metadata": {},
   "outputs": [],
   "source": [
    "import pandas as pd\n",
    "import numpy as np"
   ]
  },
  {
   "cell_type": "markdown",
   "metadata": {},
   "source": [
    "vars"
   ]
  },
  {
   "cell_type": "code",
   "execution_count": null,
   "metadata": {},
   "outputs": [],
   "source": [
    "cities = ['Bridgewatch', 'Caerleon', 'Fort Sterling', 'Lymhurst', 'Martlock', 'Thetford']"
   ]
  },
  {
   "cell_type": "code",
   "execution_count": null,
   "metadata": {},
   "outputs": [],
   "source": [
    "ingredients_file_path = \"ingredients.csv\"\n",
    "recipes_file_path = \"recipes.csv\"\n",
    "focus_file_path = \"focus.csv\"\n",
    "stew_cost_file_path = \"stew cost.csv\"\n",
    "ingredients_df = pd.read_csv(ingredients_file_path)\n",
    "recipes_df = pd.read_csv(recipes_file_path)\n",
    "focus_df = pd.read_csv(focus_file_path)\n",
    "stew_cost_df.read_csv(stew_cost_file_path)"
   ]
  },
  {
   "cell_type": "code",
   "execution_count": null,
   "metadata": {},
   "outputs": [],
   "source": [
    "def end_result(recipe_quantities_df, ingredient_prices_df, focus_cost_df, food_costs_df cities, budget, return_rate):\n",
    "    for recipes in food_costs_df:"
   ]
  }
 ],
 "metadata": {
  "language_info": {
   "name": "python"
  }
 },
 "nbformat": 4,
 "nbformat_minor": 2
}
