{
 "cells": [
  {
   "cell_type": "markdown",
   "metadata": {},
   "source": [
    "imports"
   ]
  },
  {
   "cell_type": "code",
   "execution_count": 161,
   "metadata": {},
   "outputs": [],
   "source": [
    "import matplotlib as mp\n",
    "import numpy as np\n",
    "import pandas as pd"
   ]
  },
  {
   "cell_type": "code",
   "execution_count": 162,
   "metadata": {},
   "outputs": [],
   "source": [
    "recipes = []\n",
    "cities  = []\n",
    "order_types = set()\n",
    "suffixes_to_remove = ['Sell Order', 'Buy Order']\n"
   ]
  },
  {
   "cell_type": "code",
   "execution_count": 163,
   "metadata": {},
   "outputs": [],
   "source": [
    "\n",
    "intgredients_file_path = \"tes.csv\"\n",
    "recipes_file_path = \"recipes.csv\"\n"
   ]
  },
  {
   "cell_type": "code",
   "execution_count": 164,
   "metadata": {},
   "outputs": [],
   "source": [
    "ingrdients_df = pd.read_csv(intgredients_file_path)\n",
    "\n",
    "for column in ingrdients_df.columns:\n",
    "    # Check if any of the suffixes are in the column name\n",
    "    for suffix in suffixes_to_remove:\n",
    "        if suffix in column:\n",
    "            # Remove the suffix and strip any trailing spaces\n",
    "            city_name = column.replace(suffix, '').strip()\n",
    "            # Add the clean city name to the set\n",
    "            order_types.add(city_name)\n",
    "\n",
    "cities = sorted(list(order_types))\n",
    "\n"
   ]
  },
  {
   "cell_type": "code",
   "execution_count": 165,
   "metadata": {},
   "outputs": [
    {
     "name": "stdout",
     "output_type": "stream",
     "text": [
      "Cities List:\n",
      "['Bridgewatch', 'Caerleon', 'Fort Sterling', 'Lymhurst', 'Martlock', 'Thetford']\n",
      "Order Types:\n",
      "['Lymhurst', 'Caerleon', 'Martlock', 'Bridgewatch', 'Fort Sterling', 'Thetford']\n"
     ]
    }
   ],
   "source": [
    "print(\"Cities List:\")\n",
    "print(cities)\n",
    "print(\"Order Types:\")\n",
    "print(list(order_types))"
   ]
  },
  {
   "cell_type": "code",
   "execution_count": 166,
   "metadata": {},
   "outputs": [],
   "source": [
    "recipes_df = pd.read_csv(recipes_file_path)"
   ]
  },
  {
   "cell_type": "code",
   "execution_count": 167,
   "metadata": {},
   "outputs": [
    {
     "name": "stdout",
     "output_type": "stream",
     "text": [
      "Recipes List:\n",
      "['Goat Stew', 'Avalonian Goat Stew', 'Greenriver Eel Stew', 'Mutton Stew', 'Avalonian Mutton Stew', 'Redspring Eel Stew', 'Beef Stew', 'Avalonian Beef Stew', 'Deadwater Eel Stew']\n"
     ]
    }
   ],
   "source": [
    "if 'Item' in recipes_df.columns:\n",
    "    recipes_list = recipes_df.columns.tolist()[1:]  # Exclude the first column which is 'Item'\n",
    "else:\n",
    "    recipes_list = recipes_df.columns.tolist()\n",
    "\n",
    "print(\"Recipes List:\")\n",
    "print(recipes_list)"
   ]
  },
  {
   "cell_type": "code",
   "execution_count": 168,
   "metadata": {},
   "outputs": [],
   "source": [
    "recipes_df.set_index('Item', inplace=True)\n",
    "ingrdients_df.set_index('Item', inplace=True)"
   ]
  },
  {
   "cell_type": "code",
   "execution_count": 169,
   "metadata": {},
   "outputs": [],
   "source": [
    "combined_df = recipes_df.join(ingrdients_df)\n"
   ]
  },
  {
   "cell_type": "code",
   "execution_count": 170,
   "metadata": {},
   "outputs": [],
   "source": [
    "# Calculate cost for each city and recipe\n",
    "for city in cities:\n",
    "    for recipe in recipes:\n",
    "        sell_col_name = f'{recipe} Cost ({city} Sell Order)'\n",
    "        buy_col_name = f'{recipe} Cost ({city} Buy Order)'\n",
    "        combined_df[sell_col_name] = combined_df[recipe] * combined_df[f'{city} Sell Order']\n",
    "        combined_df[buy_col_name] = combined_df[recipe] * combined_df[f'{city} Buy Order']\n",
    "\n",
    "# Calculate total cost for each recipe in each city\n",
    "total_costs = {}\n",
    "for city in cities:\n",
    "    for recipe in recipes:\n",
    "        sell_total = combined_df[f'{recipe} Cost ({city} Sell Order)'].sum()\n",
    "        buy_total = combined_df[f'{recipe} Cost ({city} Buy Order)'].sum()\n",
    "        total_costs[(recipe, city, 'Sell Order')] = sell_total\n",
    "        total_costs[(recipe, city, 'Buy Order')] = buy_total"
   ]
  },
  {
   "cell_type": "code",
   "execution_count": 171,
   "metadata": {},
   "outputs": [],
   "source": [
    "for key, value in total_costs.items():\n",
    "    print(f\"Total {key[2]} cost to prepare {key[0]} in {key[1]}: {value}\")\n"
   ]
  }
 ],
 "metadata": {
  "kernelspec": {
   "display_name": "Python 3",
   "language": "python",
   "name": "python3"
  },
  "language_info": {
   "codemirror_mode": {
    "name": "ipython",
    "version": 3
   },
   "file_extension": ".py",
   "mimetype": "text/x-python",
   "name": "python",
   "nbconvert_exporter": "python",
   "pygments_lexer": "ipython3",
   "version": "3.9.0"
  }
 },
 "nbformat": 4,
 "nbformat_minor": 2
}
