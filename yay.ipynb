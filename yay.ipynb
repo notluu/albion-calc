{
 "cells": [
  {
   "cell_type": "markdown",
   "metadata": {},
   "source": [
    "imports"
   ]
  },
  {
   "cell_type": "code",
   "execution_count": 2,
   "metadata": {},
   "outputs": [],
   "source": [
    "import pandas as pd\n",
    "import numpy as np\n",
    "import os\n",
    "from pathlib import Path"
   ]
  },
  {
   "cell_type": "markdown",
   "metadata": {},
   "source": [
    "variables"
   ]
  },
  {
   "cell_type": "markdown",
   "metadata": {},
   "source": [
    "folder pathing"
   ]
  },
  {
   "cell_type": "code",
   "execution_count": 3,
   "metadata": {},
   "outputs": [],
   "source": [
    "export_path = Path('./export')\n",
    "export_path.mkdir(parents=True, exist_ok=True)\n",
    "# Define the base filename\n",
    "base_filename = 'alb_data'\n",
    "file_extension = '.csv'\n",
    "counter = 1\n",
    "while True:\n",
    "    file_path = export_path / f'{base_filename}{counter}{file_extension}'\n",
    "    if not file_path.exists():\n",
    "        break\n",
    "    counter += 1"
   ]
  },
  {
   "cell_type": "markdown",
   "metadata": {},
   "source": [
    "adding local csvs files"
   ]
  },
  {
   "cell_type": "code",
   "execution_count": 4,
   "metadata": {},
   "outputs": [],
   "source": [
    "ingredients_file_path = \"ingredients.csv\"\n",
    "recipes_file_path = \"recipes.csv\"\n",
    "focus_file_path = \"focus.csv\"\n",
    "ingredients_df = pd.read_csv(ingredients_file_path)\n",
    "recipes_df = pd.read_csv(recipes_file_path)\n",
    "focus_df = pd.read_csv(focus_file_path)"
   ]
  },
  {
   "cell_type": "markdown",
   "metadata": {},
   "source": [
    "getting city names"
   ]
  },
  {
   "cell_type": "code",
   "execution_count": 5,
   "metadata": {},
   "outputs": [],
   "source": [
    "suffixes_to_remove = [' Sell Order', ' Buy Order']\n",
    "cities_set = set()\n",
    "for column in ingredients_df.columns:\n",
    "    # Check if the column ends with any of the specified suffixes\n",
    "    for suffix in suffixes_to_remove:\n",
    "        if column.endswith(suffix):\n",
    "            # Remove the suffix to isolate the city name\n",
    "            clean_name = column.replace(suffix, '').strip()\n",
    "            cities_set.add(clean_name)\n",
    "            break  # Break the loop once a valid suffix is found and processed\n"
   ]
  },
  {
   "cell_type": "code",
   "execution_count": 6,
   "metadata": {},
   "outputs": [],
   "source": [
    "cities = sorted(list(cities_set))"
   ]
  },
  {
   "cell_type": "code",
   "execution_count": 7,
   "metadata": {},
   "outputs": [
    {
     "name": "stdout",
     "output_type": "stream",
     "text": [
      "['Bridgewatch', 'Caerleon', 'Fort Sterling', 'Lymhurst', 'Martlock', 'Thetford']\n"
     ]
    },
    {
     "ename": "",
     "evalue": "",
     "output_type": "error",
     "traceback": [
      "\u001b[1;31mThe Kernel crashed while executing code in the current cell or a previous cell. \n",
      "\u001b[1;31mPlease review the code in the cell(s) to identify a possible cause of the failure. \n",
      "\u001b[1;31mClick <a href='https://aka.ms/vscodeJupyterKernelCrash'>here</a> for more info. \n",
      "\u001b[1;31mView Jupyter <a href='command:jupyter.viewOutput'>log</a> for further details."
     ]
    }
   ],
   "source": [
    "print(cities)"
   ]
  },
  {
   "cell_type": "code",
   "execution_count": 172,
   "metadata": {},
   "outputs": [],
   "source": [
    "recipes = recipes_df.columns.tolist()[1:]"
   ]
  },
  {
   "cell_type": "markdown",
   "metadata": {},
   "source": [
    "c / 2^(x/10000) where c is the base focus cost and x is your focus specialization."
   ]
  },
  {
   "cell_type": "code",
   "execution_count": 173,
   "metadata": {},
   "outputs": [],
   "source": [
    "def single_item_achievable(cost, focus, focus_limit, budget_limit):\n",
    "  \"\"\"\n",
    "  Analyzes if a single item can be purchased multiple times within focus and budget limit.\n",
    "\n",
    "  Args:\n",
    "      cost: Flat cost of the item.\n",
    "      focus: Focus required per unit of the item.\n",
    "      focus_limit: The total amount of focus available.\n",
    "      budget_limit: The total budget available.\n",
    "\n",
    "  Returns:\n",
    "      A tuple containing the number of items achievable and a string indicating the limiting factor (if any).\n",
    "  \"\"\"\n",
    "  # Check if focus requirement is within limit\n",
    "  if focus > focus_limit:\n",
    "    return 0, \"Focus Limit Exceeded\"  # Cannot achieve any item due to focus limitation\n",
    "  elif (cost > budget_limit):\n",
    "    return 0, \"Cost Exceeded\" # Cannot achieve any item due to budget limitation\n",
    "  \n",
    "  # Calculate maximum number of items affordable within budget\n",
    "  affordable_items = budget_limit // cost\n",
    "\n",
    "  # Limit by focus if affordable items exceed focus limit\n",
    "  achievable_items = min(affordable_items, focus_limit // focus)\n",
    "\n",
    "  # Determine limiting factor (if any)\n",
    "  limiting_factor = \"\"\n",
    "  if affordable_items > achievable_items:\n",
    "    # Budget limited, could achieve more with additional focus\n",
    "    additional_focus_needed = (affordable_items - achievable_items) * focus\n",
    "    limiting_factor = f\"Focus Limited (Could Afford {affordable_items} items)\" \\\n",
    "                      f\", Need {additional_focus_needed} more Focus.\"\n",
    "  elif affordable_items < achievable_items:\n",
    "    # Focus limited, could achieve more with additional budget\n",
    "    additional_budget_needed = (achievable_items - affordable_items) * cost\n",
    "    limiting_factor = f\"Budget Limited (Could Achieve Upto {achievable_items:.2f} items)\" \\\n",
    "                      f\", Need ${additional_budget_needed:.2f} more Budget.\"\n",
    "\n",
    "  return achievable_items, limiting_factor"
   ]
  },
  {
   "cell_type": "code",
   "execution_count": 174,
   "metadata": {},
   "outputs": [],
   "source": [
    "def smallest_non_zero_round_down(series):\n",
    "  \"\"\"\n",
    "  This function rounds down the elements in a pandas Series and then finds the\n",
    "  smallest non-zero value. If all elements are zero, it returns 0.\n",
    "  \"\"\"\n",
    "  rounded_series = series.floor()  # Round down all elements\n",
    "  if rounded_series.sum() == 0:\n",
    "    return 0  # All zeros, return 0\n",
    "  else:\n",
    "    return rounded_series.where(rounded_series != 0).min()"
   ]
  },
  {
   "cell_type": "code",
   "execution_count": 175,
   "metadata": {},
   "outputs": [],
   "source": [
    "def craft_until_focus_depleted(achievable_items, focus, focus_limit, focus_percentage, merged_data):\n",
    "    \n",
    "    # Initialize variables\n",
    "    total_crafts = achievable_items\n",
    "    remaining_focus = focus_limit - (achievable_items * focus) # amount of focus left to use after inital\n",
    "    remaining_ingredients = achievable_items * merged_data['Quantity']  # initial ingredients used\n",
    "\n",
    "    while True:\n",
    "        # Calculate ingredients returned\n",
    "        ingredients_returned = (remaining_ingredients * (focus_percentage / 100))/ merged_data['Quantity'] # ingredients returned after using\n",
    "        print(\"ingredients_returned\\n\",ingredients_returned)\n",
    "\n",
    "        extra_crafts_based_on_ingredients = ingredients_returned.div(merged_data['Quantity']).fillna(0)\n",
    "        print(\"part 1 extra_crafts_based_on_ingredients:\\n\", extra_crafts_based_on_ingredients)\n",
    "        non_zero_rounded_down = np.floor(extra_crafts_based_on_ingredients[extra_crafts_based_on_ingredients> 0])\n",
    "        # Finding the minimum of the rounded-down values or return 0 if empty\n",
    "        min_value = non_zero_rounded_down.min() if not non_zero_rounded_down.empty else 0\n",
    "\n",
    "        print(\"wowza\\n\",min_value)\n",
    "        # epic_gamer_result = extra_crafts_based_on_ingredients.apply(smallest_non_zero_round_down)\n",
    "        # print(\"part 2 extra_crafts_based_on_ingredients:\\n\", min_value)\n",
    "        # extra_crafts_based_on_ingredients = ingredients_returned // merged_data['Quantity'] # amount of crafts can be done\n",
    "        # print(\"extra_crafts_based_on_ingredients\\n\",extra_crafts_based_on_ingredients)\n",
    "        # Calculate possible extra crafts based on remaining focus\n",
    "        extra_crafts_based_on_focus = remaining_focus // focus\n",
    "        print(\"working\")\n",
    "        print(\"extra_crafts_based_on_ingredients\",extra_crafts_based_on_ingredients)\n",
    "        print(\"extra_crafts_based_on_focus\", extra_crafts_based_on_focus)\n",
    "        # Determine the actual number of extra crafts possible\n",
    "        actual_extra_crafts = min(extra_crafts_based_on_ingredients, extra_crafts_based_on_focus)\n",
    "\n",
    "        if actual_extra_crafts > 0:\n",
    "            total_crafts += actual_extra_crafts\n",
    "            remaining_focus -= actual_extra_crafts * focus\n",
    "            remaining_ingredients = ingredients_returned  # Update remaining ingredients for next iteration\n",
    "        else:\n",
    "            break\n",
    "\n",
    "    return total_crafts\n"
   ]
  },
  {
   "cell_type": "code",
   "execution_count": 176,
   "metadata": {},
   "outputs": [
    {
     "name": "stdout",
     "output_type": "stream",
     "text": [
      "ingredients_returned\n",
      " 0       0.0\n",
      "1     315.2\n",
      "2       0.0\n",
      "3       0.0\n",
      "4       0.0\n",
      "5       0.0\n",
      "6       0.0\n",
      "7       0.0\n",
      "8       0.0\n",
      "9       0.0\n",
      "10      0.0\n",
      "11      0.0\n",
      "12      0.0\n",
      "13      0.0\n",
      "14      0.0\n",
      "15    630.4\n",
      "16      0.0\n",
      "17      0.0\n",
      "18      0.0\n",
      "19      0.0\n",
      "20    315.2\n",
      "Name: Quantity, dtype: float64\n",
      "part 1 extra_crafts_based_on_ingredients:\n",
      " 0      0.0\n",
      "1     78.8\n",
      "2      0.0\n",
      "3      0.0\n",
      "4      0.0\n",
      "5      0.0\n",
      "6      0.0\n",
      "7      0.0\n",
      "8      0.0\n",
      "9      0.0\n",
      "10     0.0\n",
      "11     0.0\n",
      "12     0.0\n",
      "13     0.0\n",
      "14     0.0\n",
      "15    78.8\n",
      "16     0.0\n",
      "17     0.0\n",
      "18     0.0\n",
      "19     0.0\n",
      "20    78.8\n",
      "Name: Quantity, dtype: float64\n"
     ]
    },
    {
     "ename": "KeyError",
     "evalue": "'Quantity'",
     "output_type": "error",
     "traceback": [
      "\u001b[1;31m---------------------------------------------------------------------------\u001b[0m",
      "\u001b[1;31mKeyError\u001b[0m                                  Traceback (most recent call last)",
      "Cell \u001b[1;32mIn[176], line 75\u001b[0m\n\u001b[0;32m     73\u001b[0m focus_percentage \u001b[38;5;241m=\u001b[39m \u001b[38;5;28mfloat\u001b[39m(\u001b[38;5;28minput\u001b[39m(\u001b[38;5;124m\"\u001b[39m\u001b[38;5;124mEnter the focus percentage (0-100): \u001b[39m\u001b[38;5;124m\"\u001b[39m))\n\u001b[0;32m     74\u001b[0m focus_limit \u001b[38;5;241m=\u001b[39m \u001b[38;5;28mint\u001b[39m(\u001b[38;5;28minput\u001b[39m(\u001b[38;5;124m\"\u001b[39m\u001b[38;5;124mEnter the focus limit: \u001b[39m\u001b[38;5;124m\"\u001b[39m))\n\u001b[1;32m---> 75\u001b[0m results \u001b[38;5;241m=\u001b[39m \u001b[43mcalculate_with_reuse\u001b[49m\u001b[43m(\u001b[49m\u001b[43mrecipes_df\u001b[49m\u001b[43m,\u001b[49m\u001b[43m \u001b[49m\u001b[43mingredients_df\u001b[49m\u001b[43m,\u001b[49m\u001b[43m \u001b[49m\u001b[43mfocus_df\u001b[49m\u001b[43m,\u001b[49m\u001b[43m \u001b[49m\u001b[43mcities\u001b[49m\u001b[43m,\u001b[49m\u001b[43m \u001b[49m\u001b[43mbudget\u001b[49m\u001b[43m,\u001b[49m\u001b[43m \u001b[49m\u001b[43mfocus_percentage\u001b[49m\u001b[43m,\u001b[49m\u001b[43m \u001b[49m\u001b[43mfocus_limit\u001b[49m\u001b[43m)\u001b[49m\n\u001b[0;32m     77\u001b[0m \u001b[38;5;66;03m# Display the results\u001b[39;00m\n\u001b[0;32m     78\u001b[0m \u001b[38;5;28;01mfor\u001b[39;00m recipe, city_data \u001b[38;5;129;01min\u001b[39;00m results\u001b[38;5;241m.\u001b[39mitems():\n",
      "Cell \u001b[1;32mIn[176], line 24\u001b[0m, in \u001b[0;36mcalculate_with_reuse\u001b[1;34m(recipes_df, ingredients_df, focus_df, cities, budget, focus_percentage, focus_limit)\u001b[0m\n\u001b[0;32m     22\u001b[0m initial_batches \u001b[38;5;241m=\u001b[39m achievable_items\n\u001b[0;32m     23\u001b[0m \u001b[38;5;28;01mif\u001b[39;00m achievable_items \u001b[38;5;241m!=\u001b[39m \u001b[38;5;241m0\u001b[39m \u001b[38;5;129;01mand\u001b[39;00m achievable_items \u001b[38;5;129;01mis\u001b[39;00m \u001b[38;5;129;01mnot\u001b[39;00m \u001b[38;5;28;01mNone\u001b[39;00m:\n\u001b[1;32m---> 24\u001b[0m         achievable_items \u001b[38;5;241m=\u001b[39m \u001b[43mcraft_until_focus_depleted\u001b[49m\u001b[43m(\u001b[49m\u001b[43machievable_items\u001b[49m\u001b[43m,\u001b[49m\u001b[43m \u001b[49m\u001b[43mfocus_cost_per_batch\u001b[49m\u001b[43m,\u001b[49m\u001b[43m \u001b[49m\u001b[43mfocus_limit\u001b[49m\u001b[43m,\u001b[49m\u001b[43m \u001b[49m\u001b[43mfocus_percentage\u001b[49m\u001b[43m,\u001b[49m\u001b[43m \u001b[49m\u001b[43mmerged_data\u001b[49m\u001b[43m)\u001b[49m\n\u001b[0;32m     25\u001b[0m total_batches \u001b[38;5;241m=\u001b[39m achievable_items\n\u001b[0;32m     26\u001b[0m total_focus_cost \u001b[38;5;241m=\u001b[39m achievable_items \u001b[38;5;241m*\u001b[39m focus_cost_per_batch\n",
      "Cell \u001b[1;32mIn[175], line 15\u001b[0m, in \u001b[0;36mcraft_until_focus_depleted\u001b[1;34m(achievable_items, focus, focus_limit, focus_percentage, merged_data)\u001b[0m\n\u001b[0;32m     13\u001b[0m extra_crafts_based_on_ingredients \u001b[38;5;241m=\u001b[39m ingredients_returned\u001b[38;5;241m.\u001b[39mdiv(merged_data[\u001b[38;5;124m'\u001b[39m\u001b[38;5;124mQuantity\u001b[39m\u001b[38;5;124m'\u001b[39m])\u001b[38;5;241m.\u001b[39mfillna(\u001b[38;5;241m0\u001b[39m)\n\u001b[0;32m     14\u001b[0m \u001b[38;5;28mprint\u001b[39m(\u001b[38;5;124m\"\u001b[39m\u001b[38;5;124mpart 1 extra_crafts_based_on_ingredients:\u001b[39m\u001b[38;5;130;01m\\n\u001b[39;00m\u001b[38;5;124m\"\u001b[39m, extra_crafts_based_on_ingredients)\n\u001b[1;32m---> 15\u001b[0m non_zero_rounded_down \u001b[38;5;241m=\u001b[39m np\u001b[38;5;241m.\u001b[39mfloor(\u001b[43mextra_crafts_based_on_ingredients\u001b[49m\u001b[43m[\u001b[49m\u001b[38;5;124;43m'\u001b[39;49m\u001b[38;5;124;43mQuantity\u001b[39;49m\u001b[38;5;124;43m'\u001b[39;49m\u001b[43m]\u001b[49m[extra_crafts_based_on_ingredients[\u001b[38;5;124m'\u001b[39m\u001b[38;5;124mQuantity\u001b[39m\u001b[38;5;124m'\u001b[39m] \u001b[38;5;241m>\u001b[39m \u001b[38;5;241m0\u001b[39m])\n\u001b[0;32m     16\u001b[0m \u001b[38;5;66;03m# Finding the minimum of the rounded-down values or return 0 if empty\u001b[39;00m\n\u001b[0;32m     17\u001b[0m min_value \u001b[38;5;241m=\u001b[39m non_zero_rounded_down\u001b[38;5;241m.\u001b[39mmin() \u001b[38;5;28;01mif\u001b[39;00m \u001b[38;5;129;01mnot\u001b[39;00m non_zero_rounded_down\u001b[38;5;241m.\u001b[39mempty \u001b[38;5;28;01melse\u001b[39;00m \u001b[38;5;241m0\u001b[39m\n",
      "File \u001b[1;32mc:\\Python39\\lib\\site-packages\\pandas\\core\\series.py:1121\u001b[0m, in \u001b[0;36mSeries.__getitem__\u001b[1;34m(self, key)\u001b[0m\n\u001b[0;32m   1118\u001b[0m     \u001b[38;5;28;01mreturn\u001b[39;00m \u001b[38;5;28mself\u001b[39m\u001b[38;5;241m.\u001b[39m_values[key]\n\u001b[0;32m   1120\u001b[0m \u001b[38;5;28;01melif\u001b[39;00m key_is_scalar:\n\u001b[1;32m-> 1121\u001b[0m     \u001b[38;5;28;01mreturn\u001b[39;00m \u001b[38;5;28;43mself\u001b[39;49m\u001b[38;5;241;43m.\u001b[39;49m\u001b[43m_get_value\u001b[49m\u001b[43m(\u001b[49m\u001b[43mkey\u001b[49m\u001b[43m)\u001b[49m\n\u001b[0;32m   1123\u001b[0m \u001b[38;5;66;03m# Convert generator to list before going through hashable part\u001b[39;00m\n\u001b[0;32m   1124\u001b[0m \u001b[38;5;66;03m# (We will iterate through the generator there to check for slices)\u001b[39;00m\n\u001b[0;32m   1125\u001b[0m \u001b[38;5;28;01mif\u001b[39;00m is_iterator(key):\n",
      "File \u001b[1;32mc:\\Python39\\lib\\site-packages\\pandas\\core\\series.py:1237\u001b[0m, in \u001b[0;36mSeries._get_value\u001b[1;34m(self, label, takeable)\u001b[0m\n\u001b[0;32m   1234\u001b[0m     \u001b[38;5;28;01mreturn\u001b[39;00m \u001b[38;5;28mself\u001b[39m\u001b[38;5;241m.\u001b[39m_values[label]\n\u001b[0;32m   1236\u001b[0m \u001b[38;5;66;03m# Similar to Index.get_value, but we do not fall back to positional\u001b[39;00m\n\u001b[1;32m-> 1237\u001b[0m loc \u001b[38;5;241m=\u001b[39m \u001b[38;5;28;43mself\u001b[39;49m\u001b[38;5;241;43m.\u001b[39;49m\u001b[43mindex\u001b[49m\u001b[38;5;241;43m.\u001b[39;49m\u001b[43mget_loc\u001b[49m\u001b[43m(\u001b[49m\u001b[43mlabel\u001b[49m\u001b[43m)\u001b[49m\n\u001b[0;32m   1239\u001b[0m \u001b[38;5;28;01mif\u001b[39;00m is_integer(loc):\n\u001b[0;32m   1240\u001b[0m     \u001b[38;5;28;01mreturn\u001b[39;00m \u001b[38;5;28mself\u001b[39m\u001b[38;5;241m.\u001b[39m_values[loc]\n",
      "File \u001b[1;32mc:\\Python39\\lib\\site-packages\\pandas\\core\\indexes\\range.py:417\u001b[0m, in \u001b[0;36mRangeIndex.get_loc\u001b[1;34m(self, key)\u001b[0m\n\u001b[0;32m    415\u001b[0m         \u001b[38;5;28;01mraise\u001b[39;00m \u001b[38;5;167;01mKeyError\u001b[39;00m(key) \u001b[38;5;28;01mfrom\u001b[39;00m \u001b[38;5;21;01merr\u001b[39;00m\n\u001b[0;32m    416\u001b[0m \u001b[38;5;28;01mif\u001b[39;00m \u001b[38;5;28misinstance\u001b[39m(key, Hashable):\n\u001b[1;32m--> 417\u001b[0m     \u001b[38;5;28;01mraise\u001b[39;00m \u001b[38;5;167;01mKeyError\u001b[39;00m(key)\n\u001b[0;32m    418\u001b[0m \u001b[38;5;28mself\u001b[39m\u001b[38;5;241m.\u001b[39m_check_indexing_error(key)\n\u001b[0;32m    419\u001b[0m \u001b[38;5;28;01mraise\u001b[39;00m \u001b[38;5;167;01mKeyError\u001b[39;00m(key)\n",
      "\u001b[1;31mKeyError\u001b[0m: 'Quantity'"
     ]
    }
   ],
   "source": [
    "def calculate_with_reuse(recipes_df, ingredients_df, focus_df, cities, budget, focus_percentage, focus_limit):\n",
    "    results = {}\n",
    "\n",
    "    for recipe in recipes_df.columns[1:]:  # Exclude the 'Item' column\n",
    "        results[recipe] = {}\n",
    "        recipe_data = recipes_df[['Item', recipe]].dropna()\n",
    "        recipe_data.columns = ['Item', 'Quantity']\n",
    "        \n",
    "        # Assuming focus_df has a column for each recipe with a single focus cost value per recipe\n",
    "        focus_cost_per_batch = focus_df[recipe].iloc[0]  # Access the focus cost for the singlular recipe\n",
    "        \n",
    "        for city in cities:\n",
    "            buy_column = f'{city} Buy Order'\n",
    "            sell_column = f'{city} Sell Order'\n",
    "            prices = ingredients_df[['Item', buy_column, sell_column]]\n",
    "            merged_data = recipe_data.merge(prices, on='Item', how='left')\n",
    "\n",
    "            merged_data['Cost Per Unit'] = merged_data['Quantity'] * merged_data[buy_column]\n",
    "            single_recipe_cost = merged_data['Cost Per Unit'].sum() # gets the total cost per unit for a single recipe\n",
    "            # check if a recipe cost is 0 if it is 0 then everything else is 0\n",
    "            achievable_items, limiting_factor = single_item_achievable(single_recipe_cost, focus_cost_per_batch, focus_limit, budget)\n",
    "            initial_batches = achievable_items\n",
    "            if achievable_items != 0 and achievable_items is not None:\n",
    "                    achievable_items = craft_until_focus_depleted(achievable_items, focus_cost_per_batch, focus_limit, focus_percentage, merged_data)\n",
    "            total_batches = achievable_items\n",
    "            total_focus_cost = achievable_items * focus_cost_per_batch\n",
    "\n",
    "            #if single_recipe_cost > 0:\n",
    "                # initial_batches = budget // single_recipe_cost\n",
    "                # if initial_batches * focus_cost_per_batch\n",
    "                #initial_batches = budget // single_recipe_cost\n",
    "                \n",
    "                #total_batches = initial_batches\n",
    "                #ingredients_remaining = initial_batches * merged_data['Quantity']\n",
    "                # ingredients_remaining = achievable_items * merged_data['Quantity']\n",
    "                # total_focus_cost = 0\n",
    "\n",
    "                # while True:\n",
    "                #     ingredients_returned = ingredients_remaining * (focus_percentage / 100)\n",
    "                #     additional_batches = (ingredients_returned // merged_data['Quantity']).min()\n",
    "                #     if additional_batches < 1:\n",
    "                #         break\n",
    "\n",
    "                #     # Calculate the focus cost for these additional batches\n",
    "                #     additional_focus_cost = additional_batches * focus_cost_per_batch\n",
    "                #     if total_focus_cost + additional_focus_cost > focus_limit:  # Check if adding this cost exceeds the limit\n",
    "                #         break\n",
    "\n",
    "                #     total_batches += additional_batches\n",
    "                #     total_focus_cost += additional_focus_cost\n",
    "                #     ingredients_remaining = additional_batches * merged_data['Quantity']\n",
    "\n",
    "            #else:\n",
    "                #total_batches = 0\n",
    "\n",
    "\n",
    "            # Calculate revenue and net profit\n",
    "            revenue = total_batches * merged_data[sell_column].iloc[0]  # Assume uniform sell price\n",
    "            profit = revenue - (single_recipe_cost * initial_batches) #- total_focus_cost\n",
    "\n",
    "            results[recipe][city] = {\n",
    "                'Initial Cost': single_recipe_cost * initial_batches,\n",
    "                'Total Batches': total_batches,\n",
    "                'Total Focus Cost': total_focus_cost,\n",
    "                'Revenue': revenue,\n",
    "                'Profit': profit\n",
    "            }\n",
    "\n",
    "    return results\n",
    "\n",
    "# Example usage:\n",
    "budget = int(input(\"Enter your budget: \"))\n",
    "focus_percentage = float(input(\"Enter the focus percentage (0-100): \"))\n",
    "focus_limit = int(input(\"Enter the focus limit: \"))\n",
    "results = calculate_with_reuse(recipes_df, ingredients_df, focus_df, cities, budget, focus_percentage, focus_limit)\n",
    "\n",
    "# Display the results\n",
    "for recipe, city_data in results.items():\n",
    "    print(f\"\\n{recipe}:\")\n",
    "    for city, values in city_data.items():\n",
    "        print(f\"{city}:\")\n",
    "        print(f\"  Initial Cost: {values['Initial Cost']}\")\n",
    "        print(f\"  Total Batches: {values['Total Batches']}\")\n",
    "        print(f\"  Total Focus Cost: {values['Total Focus Cost']}\")\n",
    "        print(f\"  Revenue: {values['Revenue']}\")\n",
    "        print(f\"  Profit: {values['Profit']}\")\n"
   ]
  },
  {
   "cell_type": "code",
   "execution_count": null,
   "metadata": {},
   "outputs": [],
   "source": []
  },
  {
   "cell_type": "code",
   "execution_count": null,
   "metadata": {},
   "outputs": [],
   "source": [
    "# for city in cities:\n",
    "#     # Extract sell and buy order columns for the current city\n",
    "#     sell_column = f'{city} Sell Order'\n",
    "#     buy_column = f'{city} Buy Order'\n",
    "\n",
    "#     # Merge sell prices with recipes\n",
    "#     current_sell_prices = ingredients_df[['Item', sell_column]]\n",
    "#     combined_sell = recipes_long.merge(current_sell_prices, on='Item', how='left')\n",
    "#     combined_sell['Ingredient_Cost'] = combined_sell['Quantity'] * combined_sell[sell_column]\n",
    "    \n",
    "#     # Aggregate to get total cost per recipe\n",
    "#     sell_costs = combined_sell.groupby('Recipe')['Ingredient_Cost'].sum().rename(f'Sell Order{city}')\n",
    "    \n",
    "#     # Merge buy prices with recipes\n",
    "#     current_buy_prices = ingredients_df[['Item', buy_column]]\n",
    "#     combined_buy = recipes_long.merge(current_buy_prices, on='Item', how='left')\n",
    "#     combined_buy['Ingredient_Cost'] = combined_buy['Quantity'] * combined_buy[buy_column]\n",
    "    \n",
    "#     # Aggregate to get total cost per recipe\n",
    "#     buy_costs = combined_buy.groupby('Recipe')['Ingredient_Cost'].sum().rename(f'Buy Order{city}')\n",
    "\n",
    "#     # Store in the dictionary\n",
    "#     total_costs[f'{city}'] = pd.concat([sell_costs, buy_costs], axis=1)\n",
    "\n",
    "# # Combine all data into a single DataFrame for display\n",
    "# all_costs_df = pd.concat(total_costs, axis=1)\n",
    "\n",
    "# # Display the total cost per recipe for sell and buy orders for each city, sorted as requested\n",
    "# print(all_costs_df.head()[:5])"
   ]
  },
  {
   "cell_type": "code",
   "execution_count": null,
   "metadata": {},
   "outputs": [],
   "source": [
    "# all_costs_df.to_csv(file_path)\n",
    "# print(f'File saved as: {file_path}')"
   ]
  },
  {
   "cell_type": "code",
   "execution_count": null,
   "metadata": {},
   "outputs": [
    {
     "ename": "NameError",
     "evalue": "name 'results_df' is not defined",
     "output_type": "error",
     "traceback": [
      "\u001b[1;31m---------------------------------------------------------------------------\u001b[0m",
      "\u001b[1;31mNameError\u001b[0m                                 Traceback (most recent call last)",
      "Cell \u001b[1;32mIn[146], line 1\u001b[0m\n\u001b[1;32m----> 1\u001b[0m \u001b[38;5;28mprint\u001b[39m(\u001b[43mresults_df\u001b[49m\u001b[38;5;241m.\u001b[39minfo(memory_usage\u001b[38;5;241m=\u001b[39m\u001b[38;5;124m'\u001b[39m\u001b[38;5;124mdeep\u001b[39m\u001b[38;5;124m'\u001b[39m))\n",
      "\u001b[1;31mNameError\u001b[0m: name 'results_df' is not defined"
     ]
    }
   ],
   "source": [
    "print(results_df.info(memory_usage='deep'))\n"
   ]
  },
  {
   "cell_type": "code",
   "execution_count": null,
   "metadata": {},
   "outputs": [],
   "source": [
    "combined_df.to_csv(file_path)\n",
    "print(f'File saved as: {file_path}')\n"
   ]
  }
 ],
 "metadata": {
  "kernelspec": {
   "display_name": "Python 3",
   "language": "python",
   "name": "python3"
  },
  "language_info": {
   "codemirror_mode": {
    "name": "ipython",
    "version": 3
   },
   "file_extension": ".py",
   "mimetype": "text/x-python",
   "name": "python",
   "nbconvert_exporter": "python",
   "pygments_lexer": "ipython3",
   "version": "3.9.0"
  }
 },
 "nbformat": 4,
 "nbformat_minor": 2
}
